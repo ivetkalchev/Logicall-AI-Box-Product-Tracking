{
 "cells": [
  {
   "cell_type": "code",
   "execution_count": null,
   "id": "46ec7a82",
   "metadata": {},
   "outputs": [],
   "source": [
    "import cv2\n",
    "import os\n",
    "\n",
    "# === CONFIG ===\n",
    "video_path = 'C:/Users/ivetk/Downloads/second_run_right.avi'  # Path to your video file\n",
    "output_folder = 'C:/Users/ivetk/Downloads/new-videos'  # Folder where frames will be saved\n",
    "frame_interval = 100         # Save every nth frame (1 = every frame)\n",
    "\n",
    "# === CREATE OUTPUT FOLDER ===\n",
    "if not os.path.exists(output_folder):\n",
    "    os.makedirs(output_folder)\n",
    "\n",
    "# === READ VIDEO ===\n",
    "cap = cv2.VideoCapture(video_path)\n",
    "frame_count = 0\n",
    "saved_count = 0\n",
    "\n",
    "while cap.isOpened():\n",
    "    ret, frame = cap.read()\n",
    "    if not ret:\n",
    "        break\n",
    "\n",
    "    if frame_count % frame_interval == 0:\n",
    "        frame_filename = os.path.join(output_folder, f\"frame_{saved_count:04d}.jpg\")\n",
    "        cv2.imwrite(frame_filename, frame)\n",
    "        print(f\"Saved: {frame_filename}\")\n",
    "        saved_count += 1\n",
    "\n",
    "    frame_count += 1\n",
    "\n",
    "cap.release()\n",
    "print(\"Done extracting frames.\")\n"
   ]
  }
 ],
 "metadata": {
  "kernelspec": {
   "display_name": "Python 3",
   "language": "python",
   "name": "python3"
  },
  "language_info": {
   "codemirror_mode": {
    "name": "ipython",
    "version": 3
   },
   "file_extension": ".py",
   "mimetype": "text/x-python",
   "name": "python",
   "nbconvert_exporter": "python",
   "pygments_lexer": "ipython3",
   "version": "3.13.3"
  }
 },
 "nbformat": 4,
 "nbformat_minor": 5
}
