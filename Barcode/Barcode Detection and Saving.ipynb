{
 "cells": [
  {
   "cell_type": "code",
   "execution_count": 2,
   "id": "07d17443",
   "metadata": {},
   "outputs": [
    {
     "name": "stdout",
     "output_type": "stream",
     "text": [
      "Scanning... '3S' barcodes go to boxes file, others to products. Press 'q' to quit.\n",
      "🧃 Product saved: ID=10, A4846885A\n",
      "🧃 Product saved: ID=11, 48836138\n"
     ]
    },
    {
     "ename": "KeyboardInterrupt",
     "evalue": "",
     "output_type": "error",
     "traceback": [
      "\u001b[1;31m---------------------------------------------------------------------------\u001b[0m",
      "\u001b[1;31mKeyboardInterrupt\u001b[0m                         Traceback (most recent call last)",
      "Cell \u001b[1;32mIn[2], line 40\u001b[0m\n\u001b[0;32m     37\u001b[0m \u001b[38;5;28mprint\u001b[39m(\u001b[38;5;124m\"\u001b[39m\u001b[38;5;124mScanning... \u001b[39m\u001b[38;5;124m'\u001b[39m\u001b[38;5;124m3S\u001b[39m\u001b[38;5;124m'\u001b[39m\u001b[38;5;124m barcodes go to boxes file, others to products. Press \u001b[39m\u001b[38;5;124m'\u001b[39m\u001b[38;5;124mq\u001b[39m\u001b[38;5;124m'\u001b[39m\u001b[38;5;124m to quit.\u001b[39m\u001b[38;5;124m\"\u001b[39m)\n\u001b[0;32m     39\u001b[0m \u001b[38;5;28;01mwhile\u001b[39;00m \u001b[38;5;28;01mTrue\u001b[39;00m:\n\u001b[1;32m---> 40\u001b[0m     ret, frame \u001b[38;5;241m=\u001b[39m \u001b[43mcap\u001b[49m\u001b[38;5;241;43m.\u001b[39;49m\u001b[43mread\u001b[49m\u001b[43m(\u001b[49m\u001b[43m)\u001b[49m\n\u001b[0;32m     41\u001b[0m     \u001b[38;5;28;01mif\u001b[39;00m \u001b[38;5;129;01mnot\u001b[39;00m ret:\n\u001b[0;32m     42\u001b[0m         \u001b[38;5;28mprint\u001b[39m(\u001b[38;5;124m\"\u001b[39m\u001b[38;5;124mFailed to grab frame\u001b[39m\u001b[38;5;124m\"\u001b[39m)\n",
      "\u001b[1;31mKeyboardInterrupt\u001b[0m: "
     ]
    }
   ],
   "source": [
    "import cv2\n",
    "from pyzbar.pyzbar import decode\n",
    "from datetime import datetime\n",
    "import openpyxl\n",
    "import os\n",
    "\n",
    "# === File paths ===\n",
    "box_file = \"scanned_barcodes.xlsx\"\n",
    "product_file = \"products.xlsx\"\n",
    "\n",
    "def init_excel(file_path):\n",
    "    if not os.path.exists(file_path):\n",
    "        wb = openpyxl.Workbook()\n",
    "        ws = wb.active\n",
    "        ws.append([\"ID\", \"Barcode\", \"Timestamp\"])\n",
    "        wb.save(file_path)\n",
    "    wb = openpyxl.load_workbook(file_path)\n",
    "    ws = wb.active\n",
    "    existing = {}\n",
    "    next_id = 1\n",
    "    for row in ws.iter_rows(min_row=2, values_only=True):\n",
    "        id_, barcode, _ = row\n",
    "        existing[barcode] = id_\n",
    "        if id_ >= next_id:\n",
    "            next_id = id_ + 1\n",
    "    return wb, ws, existing, next_id\n",
    "\n",
    "# === Initialize Excel files ===\n",
    "box_wb, box_ws, box_scanned, box_next_id = init_excel(box_file)\n",
    "prod_wb, prod_ws, prod_scanned, prod_next_id = init_excel(product_file)\n",
    "\n",
    "# === Webcam Start ===\n",
    "cap = cv2.VideoCapture(0)\n",
    "if not cap.isOpened():\n",
    "    print(\"Cannot open camera\")\n",
    "\n",
    "print(\"Scanning... '3S' barcodes go to boxes file, others to products. Press 'q' to quit.\")\n",
    "\n",
    "while True:\n",
    "    ret, frame = cap.read()\n",
    "    if not ret:\n",
    "        print(\"Failed to grab frame\")\n",
    "        break\n",
    "\n",
    "    barcodes = decode(frame)\n",
    "    for barcode in barcodes:\n",
    "        x, y, w, h = barcode.rect\n",
    "        barcode_data = barcode.data.decode('utf-8')\n",
    "        barcode_type = barcode.type\n",
    "        display_text = f'{barcode_type}: {barcode_data}'\n",
    "\n",
    "        cv2.rectangle(frame, (x, y), (x+w, y+h), (0, 255, 0), 2)\n",
    "        cv2.putText(frame, display_text, (x, y - 10),\n",
    "                    cv2.FONT_HERSHEY_SIMPLEX, 0.5, (255, 0, 0), 2)\n",
    "\n",
    "        timestamp = datetime.now().strftime('%Y-%m-%d %H:%M:%S')\n",
    "\n",
    "        if barcode_data.startswith(\"3S\"):\n",
    "            if barcode_data not in box_scanned:\n",
    "                box_ws.append([box_next_id, barcode_data, timestamp])\n",
    "                box_wb.save(box_file)\n",
    "                print(f\"📦 Box saved: ID={box_next_id}, {barcode_data}\")\n",
    "                box_scanned[barcode_data] = box_next_id\n",
    "                box_next_id += 1\n",
    "        else:\n",
    "            if barcode_data not in prod_scanned:\n",
    "                prod_ws.append([prod_next_id, barcode_data, timestamp])\n",
    "                prod_wb.save(product_file)\n",
    "                print(f\"🧃 Product saved: ID={prod_next_id}, {barcode_data}\")\n",
    "                prod_scanned[barcode_data] = prod_next_id\n",
    "                prod_next_id += 1\n",
    "\n",
    "    cv2.imshow(\"Barcode Scanner\", frame)\n",
    "\n",
    "    if cv2.waitKey(1) & 0xFF == ord('q'):\n",
    "        break\n",
    "\n",
    "cap.release()\n",
    "cv2.destroyAllWindows()"
   ]
  }
 ],
 "metadata": {
  "kernelspec": {
   "display_name": "Python 3",
   "language": "python",
   "name": "python3"
  },
  "language_info": {
   "codemirror_mode": {
    "name": "ipython",
    "version": 3
   },
   "file_extension": ".py",
   "mimetype": "text/x-python",
   "name": "python",
   "nbconvert_exporter": "python",
   "pygments_lexer": "ipython3",
   "version": "3.10.6"
  }
 },
 "nbformat": 4,
 "nbformat_minor": 5
}
