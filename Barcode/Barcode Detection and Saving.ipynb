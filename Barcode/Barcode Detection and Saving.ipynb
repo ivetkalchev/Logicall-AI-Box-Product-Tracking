{
 "cells": [
  {
   "cell_type": "code",
   "execution_count": null,
   "id": "07d17443",
   "metadata": {},
   "outputs": [
    {
     "name": "stdout",
     "output_type": "stream",
     "text": [
      "Scanning... '3S' barcodes go to boxes file, others to products. Press 'q' to quit.\n"
     ]
    },
    {
     "name": "stderr",
     "output_type": "stream",
     "text": [
      "2025-06-08 16:04:26.848 Python[96342:12023506] WARNING: Secure coding is automatically enabled for restorable state! However, not on all supported macOS versions of this application. Opt-in to secure coding explicitly by implementing NSApplicationDelegate.applicationSupportsSecureRestorableState:.\n"
     ]
    }
   ],
   "source": [
    "import cv2\n",
    "from pyzbar.pyzbar import decode\n",
    "from datetime import datetime\n",
    "import openpyxl\n",
    "import os\n",
    "\n",
    "# === File paths ===\n",
    "box_file = \"scanned_barcodes.xlsx\"\n",
    "product_file = \"products.xlsx\"\n",
    "\n",
    "def init_excel(file_path):\n",
    "    if not os.path.exists(file_path):\n",
    "        wb = openpyxl.Workbook()\n",
    "        ws = wb.active\n",
    "        ws.append([\"ID\", \"Barcode\", \"Timestamp\"])\n",
    "        wb.save(file_path)\n",
    "    wb = openpyxl.load_workbook(file_path)\n",
    "    ws = wb.active\n",
    "    existing = {}\n",
    "    next_id = 1\n",
    "    for row in ws.iter_rows(min_row=2, values_only=True):\n",
    "        id_, barcode, _ = row\n",
    "        existing[barcode] = id_\n",
    "        if id_ >= next_id:\n",
    "            next_id = id_ + 1\n",
    "    return wb, ws, existing, next_id\n",
    "\n",
    "# === Initialize Excel files ===\n",
    "box_wb, box_ws, box_scanned, box_next_id = init_excel(box_file)\n",
    "prod_wb, prod_ws, prod_scanned, prod_next_id = init_excel(product_file)\n",
    "\n",
    "# === Webcam Start ===\n",
    "cap = cv2.VideoCapture(0)\n",
    "if not cap.isOpened():\n",
    "    print(\"Cannot open camera\")\n",
    "\n",
    "print(\"Scanning... '3S' barcodes go to boxes file, others to products. Press 'q' to quit.\")\n",
    "\n",
    "while True:\n",
    "    ret, frame = cap.read()\n",
    "    if not ret:\n",
    "        print(\"Failed to grab frame\")\n",
    "        break\n",
    "\n",
    "    barcodes = decode(frame)\n",
    "    for barcode in barcodes:\n",
    "        x, y, w, h = barcode.rect\n",
    "        barcode_data = barcode.data.decode('utf-8')\n",
    "        barcode_type = barcode.type\n",
    "        display_text = f'{barcode_type}: {barcode_data}'\n",
    "\n",
    "        cv2.rectangle(frame, (x, y), (x+w, y+h), (0, 255, 0), 2)\n",
    "        cv2.putText(frame, display_text, (x, y - 10),\n",
    "                    cv2.FONT_HERSHEY_SIMPLEX, 0.5, (255, 0, 0), 2)\n",
    "\n",
    "        timestamp = datetime.now().strftime('%Y-%m-%d %H:%M:%S')\n",
    "\n",
    "        if barcode_data.startswith(\"3S\"):\n",
    "            if barcode_data not in box_scanned:\n",
    "                box_ws.append([box_next_id, barcode_data, timestamp])\n",
    "                box_wb.save(box_file)\n",
    "                print(f\"📦 Box saved: ID={box_next_id}, {barcode_data}\")\n",
    "                box_scanned[barcode_data] = box_next_id\n",
    "                box_next_id += 1\n",
    "        else:\n",
    "            if barcode_data not in prod_scanned:\n",
    "                prod_ws.append([prod_next_id, barcode_data, timestamp])\n",
    "                prod_wb.save(product_file)\n",
    "                print(f\"🧃 Product saved: ID={prod_next_id}, {barcode_data}\")\n",
    "                prod_scanned[barcode_data] = prod_next_id\n",
    "                prod_next_id += 1\n",
    "\n",
    "    cv2.imshow(\"Barcode Scanner\", frame)\n",
    "\n",
    "    if cv2.waitKey(1) & 0xFF == ord('q'):\n",
    "        break\n",
    "\n",
    "cap.release()\n",
    "cv2.destroyAllWindows()"
   ]
  }
 ],
 "metadata": {
  "kernelspec": {
   "display_name": "Python 3",
   "language": "python",
   "name": "python3"
  },
  "language_info": {
   "codemirror_mode": {
    "name": "ipython",
    "version": 3
   },
   "file_extension": ".py",
   "mimetype": "text/x-python",
   "name": "python",
   "nbconvert_exporter": "python",
   "pygments_lexer": "ipython3",
   "version": "3.13.2"
  }
 },
 "nbformat": 4,
 "nbformat_minor": 5
}
